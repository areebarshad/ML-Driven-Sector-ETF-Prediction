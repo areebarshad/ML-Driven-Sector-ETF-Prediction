{
  "nbformat": 4,
  "nbformat_minor": 0,
  "metadata": {
    "colab": {
      "provenance": [],
      "authorship_tag": "ABX9TyNvUyg0PCFeZMYxM+kGHB2K",
      "include_colab_link": true
    },
    "kernelspec": {
      "name": "python3",
      "display_name": "Python 3"
    },
    "language_info": {
      "name": "python"
    }
  },
  "cells": [
    {
      "cell_type": "markdown",
      "metadata": {
        "id": "view-in-github",
        "colab_type": "text"
      },
      "source": [
        "<a href=\"https://colab.research.google.com/github/areebarshad/sp500-sector-prediction/blob/main/data/LGBM_sector_data_collection.ipynb\" target=\"_parent\"><img src=\"https://colab.research.google.com/assets/colab-badge.svg\" alt=\"Open In Colab\"/></a>"
      ]
    },
    {
      "cell_type": "code",
      "execution_count": null,
      "metadata": {
        "id": "nfxy-uTxA2iV"
      },
      "outputs": [],
      "source": [
        "import yfinance as yf\n",
        "import pandas as pd\n",
        "\n",
        "#ENTER TARGET TICKER\n",
        "target_ticker = 'XLK' #example test target\n",
        "\n",
        "#define the sector ETF tickers, include SPY as a benchmark\n",
        "tickers = ['XLK', 'XLF', 'XLV', 'XLP', 'XLI', 'XLB', 'XLU', 'XLRE', 'XLY', 'SPY']\n",
        "\n",
        "#define the sector_params (dictionary)\n",
        "sector_params = {\n",
        "    \"XLK\": {\"max_depth\": 9, \"num_leaves\": 64},    #Tech: strong trends\n",
        "    \"XLF\": {\"max_depth\": 14, \"num_leaves\": 128},  #Financials: volatile, macro-driven\n",
        "    \"XLV\": {\"max_depth\": 10, \"num_leaves\": 72},   #Healthcare: stable trends, less volatility\n",
        "    \"XLP\": {\"max_depth\": 7, \"num_leaves\": 48},    #Consumer Staples: defensive, smoother\n",
        "    \"XLI\": {\"max_depth\": 12, \"num_leaves\": 96},   #Industrials: cyclical, noisy\n",
        "    \"XLB\": {\"max_depth\": 11, \"num_leaves\": 80},   #Materials: commodity-linked\n",
        "    \"XLU\": {\"max_depth\": 6, \"num_leaves\": 32},    #Utilities: very stable, less variance\n",
        "    \"XLRE\": {\"max_depth\": 10, \"num_leaves\": 64},  #Real Estate: rate-sensitive\n",
        "    \"XLY\": {\"max_depth\": 10, \"num_leaves\": 80},   #Consumer Discretionary: retail-heavy\n",
        "    \"XLRE\": {\"max_depth\": 10, \"num_leaves\": 64},  #Real Estate: again for completeness\n",
        "    \"SPY\": {\"max_depth\": 10, \"num_leaves\": 72},   #Broad market\n",
        "}\n",
        "\n",
        "#download the historical price data for the ETFs, 2008 -> 2025\n",
        "data = yf.download(tickers, start = '2008-01-01', end = '2025-12-31')['Close']\n",
        "\n",
        "#save the price data to csv\n",
        "data.to_csv('/content/sp500_sector_prices.csv')\n",
        "\n",
        "#output a fitting message\n",
        "print(\"Data collected and shaped: \", data.shape)\n",
        "print(data.head())"
      ]
    }
  ]
}