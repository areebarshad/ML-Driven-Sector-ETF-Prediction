{
  "nbformat": 4,
  "nbformat_minor": 0,
  "metadata": {
    "colab": {
      "provenance": []
    },
    "kernelspec": {
      "name": "python3",
      "display_name": "Python 3"
    },
    "language_info": {
      "name": "python"
    }
  },
  "cells": [
    {
      "cell_type": "code",
      "execution_count": null,
      "metadata": {
        "id": "Ibfn-WPXj6IQ"
      },
      "outputs": [],
      "source": [
        "import pandas as pd\n",
        "import numpy as np\n",
        "from sklearn.linear_model import LinearRegression\n",
        "from sklearn.metrics import r2_score, mean_squared_error, mean_absolute_error\n",
        "import matplotlib.pyplot as plt\n",
        "\n",
        "#load data\n",
        "data = pd.read_csv('/content/sp500_sector_prices.csv', index_col = 0, parse_dates = True)\n",
        "\n",
        "#calculate daily returns\n",
        "returns = data.pct_change().dropna()\n",
        "\n",
        "#define rolling features\n",
        "rolling_window = 5\n",
        "feature_df = pd.DataFrame(index = returns.index)\n",
        "\n",
        "for ticker in returns.columns:\n",
        "  feature_df[f'{ticker}_mean'] = returns[ticker].rolling(rolling_window).mean()\n",
        "  feature_df[f'{ticker}_vol'] = returns[ticker].rolling(rolling_window).std()\n",
        "  feature_df[f'{ticker}_momentum'] = (returns[ticker] - returns[ticker].rolling(rolling_window).mean())\n",
        "\n",
        "#drop NaN rows from rolling\n",
        "feature_df = feature_df.dropna()\n",
        "\n",
        "#select target sector\n",
        "target_ticker = 'XLK' #example (technology sector)\n",
        "target = returns[target_ticker].shift(-1).dropna()\n",
        "\n",
        "#allign features and target\n",
        "X = feature_df.loc[target.index]\n",
        "y = target\n",
        "\n",
        "#train/test split\n",
        "split = int(0.8 * len(X))\n",
        "X_train, X_test = X[:split], X[:split]\n",
        "y_train, y_test = y[:split], y[:split]\n",
        "\n",
        "#train model\n",
        "model = LinearRegression()\n",
        "model.fit(X_train, y_train)\n",
        "\n",
        "#make predictions\n",
        "y_pred = model.predict(X_test)\n",
        "\n",
        "#Evaluate\n",
        "r2 = r2_score(y_test, y_pred)\n",
        "rmse = np.sqrt(mean_squared_error(y_test, y_pred))\n",
        "mae = mean_absolute_error(y_test, y_pred)\n",
        "\n",
        "print(f\"R^2 Score: {r2:.4f}\")\n",
        "print(f\"RMSE: {rmse:.6f}\")\n",
        "print(f\"MAE: {mae.6f}\")\n",
        "\n",
        "#the plots for actual VS predicted\n",
        "plt.figure(figsize = (12, 6))\n",
        "plt.plot(y_test.index, y_test.values, label = 'Actual', alpha = 0.7)\n",
        "plt.plot(y_test.index, y_pred, label = 'Predicted', alpha = 0.7)\n",
        "plt.title(f\"{target_ticker} - Actual VS Predicted Next-Day Returns\")\n",
        "plt.legend()\n",
        "plt.show()\n",
        "\n",
        "#save the results\n",
        "results_df = pd.DataFrame({'Date': y_test.index, 'Actual': y_test.values, 'Predicted': y_pred})\n",
        "results_df.to_csv('/content/linear_regression_results.csv', index = False)"
      ]
    }
  ]
}