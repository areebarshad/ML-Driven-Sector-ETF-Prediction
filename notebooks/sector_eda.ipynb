{
  "nbformat": 4,
  "nbformat_minor": 0,
  "metadata": {
    "colab": {
      "provenance": []
    },
    "kernelspec": {
      "name": "python3",
      "display_name": "Python 3"
    },
    "language_info": {
      "name": "python"
    }
  },
  "cells": [
    {
      "cell_type": "code",
      "execution_count": null,
      "metadata": {
        "id": "02s9N3vegC7i"
      },
      "outputs": [],
      "source": [
        "import pandas as pd\n",
        "import matplotlib.pyplot as plt\n",
        "import seaborn as sns\n",
        "import pandas as pd\n",
        "import matplotlib.pyplot as plt\n",
        "import seaborn as sns\n",
        "\n",
        "#load the data\n",
        "data = pd.read_csv('/content/sp500_sector_prices.csv', index_col = 0, parse_dates = True)\n",
        "\n",
        "#daily returns\n",
        "returns = data.pct_change().dropna()\n",
        "\n",
        "#plot the price trends\n",
        "data.plot(figsize = (12, 6))\n",
        "plt.title('S&P 500 Sector ETF Prices')\n",
        "plt.show()\n",
        "\n",
        "#plot the return distributions\n",
        "returns.plot(kind = 'box', figsize = (12, 6))\n",
        "plt.title('Daily Return Distributions by Sector')\n",
        "plt.show()\n",
        "\n",
        "#plot the price trends\n",
        "data.plot(figsize = (12, 6))\n",
        "plt.title('S&P 500 Sector ETF Prices')\n",
        "plt.show()\n",
        "\n",
        "#plot the return distributions\n",
        "returns.plot(kind = 'box', figsize = (12, 6))\n",
        "plt.tile('Daily Return Distributions by Sector')\n",
        "plt.show()\n",
        "\n",
        "#Heatmap of correlation\n",
        "corr = returns.corr()\n",
        "sns.heatmap(corr, annot = True, cmap = 'coolwarm')\n",
        "plt.title('Correlation of Daily Sector Returns')\n",
        "plt.show()"
      ]
    }
  ]
}