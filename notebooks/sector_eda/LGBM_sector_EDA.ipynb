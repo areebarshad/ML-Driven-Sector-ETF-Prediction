{
  "nbformat": 4,
  "nbformat_minor": 0,
  "metadata": {
    "colab": {
      "provenance": [],
      "authorship_tag": "ABX9TyPtftlP3Bh2NOjQ/vfeEsCm",
      "include_colab_link": true
    },
    "kernelspec": {
      "name": "python3",
      "display_name": "Python 3"
    },
    "language_info": {
      "name": "python"
    }
  },
  "cells": [
    {
      "cell_type": "markdown",
      "metadata": {
        "id": "view-in-github",
        "colab_type": "text"
      },
      "source": [
        "<a href=\"https://colab.research.google.com/github/areebarshad/sp500-sector-prediction/blob/main/notebooks/sector_eda/LGBM_sector_EDA.ipynb\" target=\"_parent\"><img src=\"https://colab.research.google.com/assets/colab-badge.svg\" alt=\"Open In Colab\"/></a>"
      ]
    },
    {
      "cell_type": "code",
      "execution_count": null,
      "metadata": {
        "id": "AT65_VZ8jCgB"
      },
      "outputs": [],
      "source": [
        "import pandas as pd\n",
        "import seaborn as sns\n",
        "import matplotlib.pyplot as plt\n",
        "\n",
        "#load the data to calculate percentage returns\n",
        "data = pd.read_csv('/content/sp500_sector_prices.csv', index_col = 0, parse_dates = True)\n",
        "returns = data.pct_change().dropna() #load the returns\n",
        "\n",
        "#plot the price trends\n",
        "data.plot(figsize = (12, 6))\n",
        "plt.title('Sector ETF Price Trends')\n",
        "plt.show()\n",
        "\n",
        "#plot the returns distributions across the sectors\n",
        "returns.plot(kind = 'box', figsize = (12, 6))\n",
        "plt.title('Sector ETF Returns Distribution')\n",
        "plt.show()\n",
        "\n",
        "#plot the returns correlation heatmap between sectors\n",
        "corr = returns.corr()\n",
        "sns.heatmap(corr, annot = True, cmap = 'coolwarm')\n",
        "plt.title('Sector ETF Returns Correlation Heatmap')\n",
        "plt.show()\n",
        "\n",
        "#output fitting message\n",
        "print(\"Sector EDA Complete.\")"
      ]
    }
  ]
}