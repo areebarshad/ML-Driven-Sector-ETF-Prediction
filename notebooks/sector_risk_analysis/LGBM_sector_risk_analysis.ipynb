{
  "nbformat": 4,
  "nbformat_minor": 0,
  "metadata": {
    "colab": {
      "provenance": [],
      "authorship_tag": "ABX9TyPM0cemyQo+0XRhNmnHH83c",
      "include_colab_link": true
    },
    "kernelspec": {
      "name": "python3",
      "display_name": "Python 3"
    },
    "language_info": {
      "name": "python"
    }
  },
  "cells": [
    {
      "cell_type": "markdown",
      "metadata": {
        "id": "view-in-github",
        "colab_type": "text"
      },
      "source": [
        "<a href=\"https://colab.research.google.com/github/areebarshad/sp500-sector-prediction/blob/main/notebooks/sector_risk_analysis/LGBM_sector_risk_analysis.ipynb\" target=\"_parent\"><img src=\"https://colab.research.google.com/assets/colab-badge.svg\" alt=\"Open In Colab\"/></a>"
      ]
    },
    {
      "cell_type": "code",
      "execution_count": null,
      "metadata": {
        "id": "IIJjoaDHoNIm"
      },
      "outputs": [],
      "source": [
        "import pandas as pd\n",
        "import numpy as np\n",
        "import matplotlib.pyplot as plt\n",
        "\n",
        "#load the returns\n",
        "returns = pd.read_csv('/content/sp500_sector_prices.csv', index_col = 0, parse_dates = True).pct_change().dropna()\n",
        "\n",
        "#calculate the risk metrics\n",
        "mean_return = returns.mean() * 252\n",
        "volatility = returns.std() * np.sqrt(252)\n",
        "risk_free_ratio = 0.03\n",
        "sharpe_ratio = (mean_return - risk_free_ratio) / volatility\n",
        "\n",
        "#generate a summary\n",
        "summary = pd.DataFrame({'Annual Return': mean_return, 'Annual Volatility': volatility,\n",
        "                        'Sharpe Ratio': sharpe_ratio})\n",
        "summary = summary.sort_values(by = 'Sharpe Ratio', ascending = False)\n",
        "\n",
        "#print the summary and save to csv\n",
        "print(summary)\n",
        "summary.to_csv('/content/lgbm_risk_summary.csv')\n",
        "\n",
        "#set the style of the plot\n",
        "plt.style.use('ggplot')\n",
        "\n",
        "#plot R^2 scores by sector\n",
        "results_sorted_r2 = results_df.sort_values(by = 'R2', ascending = False)\n",
        "plt.figure(figsize = (10, 6))\n",
        "plt.bar(results_sorted_r2['Sector'], results_sorted_r2['R2'], alpha = 0.7)\n",
        "plt.title('R² by Sector', fontsize = 16)\n",
        "plt.xlabel('Sector')\n",
        "plt.ylabel('R² Score')\n",
        "plt.ylim(0, 1)\n",
        "plt.grid(True)\n",
        "plt.show()\n",
        "\n",
        "#plot the Sharpe Ratios by sector\n",
        "summary_sorted = summary.sort_values(by = 'Sharpe Ratio', ascending = False)\n",
        "plt.figure(figsize = (12, 6))\n",
        "plt.bar(summary_sorted.index, summary_sorted['Sharpe Ratio'], color = 'mediumseagreen', alpha = 0.7)\n",
        "plt.title('Sharpe Ratio by Sector', fontsize = 16)\n",
        "plt.xlabel('Sector')\n",
        "plt.ylabel('Sharpe Ratio')\n",
        "plt.axhline(y = 1.0, color = 'black', linestyle = '--', label = 'Sharpe = 1.0')\n",
        "plt.legend()\n",
        "plt.grid(True)\n",
        "plt.show()\n",
        "\n",
        "#output fitting message\n",
        "print(\"Sector Risk Analysis Complete.\")"
      ]
    }
  ]
}