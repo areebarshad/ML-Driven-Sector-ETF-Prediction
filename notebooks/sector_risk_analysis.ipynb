{
  "nbformat": 4,
  "nbformat_minor": 0,
  "metadata": {
    "colab": {
      "provenance": []
    },
    "kernelspec": {
      "name": "python3",
      "display_name": "Python 3"
    },
    "language_info": {
      "name": "python"
    }
  },
  "cells": [
    {
      "cell_type": "code",
      "execution_count": null,
      "metadata": {
        "id": "_4-Ge5EZhWmc"
      },
      "outputs": [],
      "source": [
        "import pandas as pd\n",
        "\n",
        "#Load the returns\n",
        "returns = pd.read_csv('/content/sp500_sector_prices.csv', index_col = 0, parse_dates = True).pct_change().dropna()\n",
        "\n",
        "#Annualized metrics\n",
        "mean_return = returns.mean() * 252\n",
        "volatility = returns.std() * (252 ** 0.5)\n",
        "risk_free_ratio = 0.03\n",
        "sharpe_ratio = (mean_return - risk_free_ratio) / volatility\n",
        "\n",
        "#Summary table\n",
        "summary = pd.DataFrame({'Annual Return': mean_return, \"Annual Volatility\": volatility, 'Sharpe Ratio': sharpe_ratio})\n",
        "\n",
        "print(summary.sort_values('Sharpe Ratio', ascending = False))\n",
        "\n",
        "#Save summary\n",
        "summary.to_csv('/content/sector_risk_analysis.csv')"
      ]
    }
  ]
}