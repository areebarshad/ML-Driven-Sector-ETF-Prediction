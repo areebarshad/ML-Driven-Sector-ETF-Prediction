{
  "nbformat": 4,
  "nbformat_minor": 0,
  "metadata": {
    "colab": {
      "provenance": []
    },
    "kernelspec": {
      "name": "python3",
      "display_name": "Python 3"
    },
    "language_info": {
      "name": "python"
    }
  },
  "cells": [
    {
      "cell_type": "code",
      "execution_count": null,
      "metadata": {
        "id": "NtzHbnvlbOAi"
      },
      "outputs": [],
      "source": [
        "import yfinance as yf\n",
        "import pandas as pd\n",
        "\n",
        "#defining sector ETFs and S&P 500\n",
        "tickers = ['XLK', 'XLF', 'XLE', 'XLV', 'XLP', 'XLI','XLB', 'XLU', 'XLRE','SPY']\n",
        "\n",
        "#downloading the daily adjusted closing prices\n",
        "data = yf.download(tickers, start = '2018-01-01', end = \"2024-12-31\")['Adj Close']\n",
        "\n",
        "data.to_csv('/content/sp500_sector_prices.csv')\n",
        "\n",
        "print(\"Data Shape: \", data.shape)\n",
        "print(data.head())"
      ]
    }
  ]
}